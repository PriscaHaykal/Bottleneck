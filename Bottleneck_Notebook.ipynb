{
 "cells": [
  {
   "cell_type": "markdown",
   "metadata": {},
   "source": [
    "# Import des librairies"
   ]
  },
  {
   "cell_type": "code",
   "execution_count": 198,
   "metadata": {},
   "outputs": [],
   "source": [
    "import pandas as pd\n",
    "import matplotlib.pyplot as plt\n",
    "\n",
    "\n",
    "#Pour afficher les graphiques\n",
    "%matplotlib inline"
   ]
  },
  {
   "cell_type": "markdown",
   "metadata": {},
   "source": [
    "# Etude du fichier ERP"
   ]
  },
  {
   "cell_type": "code",
   "execution_count": 136,
   "metadata": {
    "scrolled": true
   },
   "outputs": [
    {
     "data": {
      "text/html": [
       "<div>\n",
       "<style scoped>\n",
       "    .dataframe tbody tr th:only-of-type {\n",
       "        vertical-align: middle;\n",
       "    }\n",
       "\n",
       "    .dataframe tbody tr th {\n",
       "        vertical-align: top;\n",
       "    }\n",
       "\n",
       "    .dataframe thead th {\n",
       "        text-align: right;\n",
       "    }\n",
       "</style>\n",
       "<table border=\"1\" class=\"dataframe\">\n",
       "  <thead>\n",
       "    <tr style=\"text-align: right;\">\n",
       "      <th></th>\n",
       "      <th>product_id</th>\n",
       "      <th>onsale_web</th>\n",
       "      <th>price</th>\n",
       "      <th>stock_quantity</th>\n",
       "      <th>stock_status</th>\n",
       "    </tr>\n",
       "  </thead>\n",
       "  <tbody>\n",
       "    <tr>\n",
       "      <th>0</th>\n",
       "      <td>3847</td>\n",
       "      <td>1</td>\n",
       "      <td>24.2</td>\n",
       "      <td>0</td>\n",
       "      <td>outofstock</td>\n",
       "    </tr>\n",
       "    <tr>\n",
       "      <th>1</th>\n",
       "      <td>3849</td>\n",
       "      <td>1</td>\n",
       "      <td>34.3</td>\n",
       "      <td>0</td>\n",
       "      <td>outofstock</td>\n",
       "    </tr>\n",
       "    <tr>\n",
       "      <th>2</th>\n",
       "      <td>3850</td>\n",
       "      <td>1</td>\n",
       "      <td>20.8</td>\n",
       "      <td>0</td>\n",
       "      <td>outofstock</td>\n",
       "    </tr>\n",
       "    <tr>\n",
       "      <th>3</th>\n",
       "      <td>4032</td>\n",
       "      <td>1</td>\n",
       "      <td>14.1</td>\n",
       "      <td>0</td>\n",
       "      <td>outofstock</td>\n",
       "    </tr>\n",
       "    <tr>\n",
       "      <th>4</th>\n",
       "      <td>4039</td>\n",
       "      <td>1</td>\n",
       "      <td>46.0</td>\n",
       "      <td>0</td>\n",
       "      <td>outofstock</td>\n",
       "    </tr>\n",
       "  </tbody>\n",
       "</table>\n",
       "</div>"
      ],
      "text/plain": [
       "   product_id  onsale_web  price  stock_quantity stock_status\n",
       "0        3847           1   24.2               0   outofstock\n",
       "1        3849           1   34.3               0   outofstock\n",
       "2        3850           1   20.8               0   outofstock\n",
       "3        4032           1   14.1               0   outofstock\n",
       "4        4039           1   46.0               0   outofstock"
      ]
     },
     "execution_count": 136,
     "metadata": {},
     "output_type": "execute_result"
    }
   ],
   "source": [
    "erp = pd.read_excel('data\\erp.xlsx')\n",
    "erp.head()"
   ]
  },
  {
   "cell_type": "code",
   "execution_count": 137,
   "metadata": {},
   "outputs": [
    {
     "name": "stdout",
     "output_type": "stream",
     "text": [
      "<class 'pandas.core.frame.DataFrame'>\n",
      "RangeIndex: 825 entries, 0 to 824\n",
      "Data columns (total 5 columns):\n",
      " #   Column          Non-Null Count  Dtype  \n",
      "---  ------          --------------  -----  \n",
      " 0   product_id      825 non-null    int64  \n",
      " 1   onsale_web      825 non-null    int64  \n",
      " 2   price           825 non-null    float64\n",
      " 3   stock_quantity  825 non-null    int64  \n",
      " 4   stock_status    825 non-null    object \n",
      "dtypes: float64(1), int64(3), object(1)\n",
      "memory usage: 32.4+ KB\n"
     ]
    }
   ],
   "source": [
    "erp.info()"
   ]
  },
  {
   "cell_type": "code",
   "execution_count": 138,
   "metadata": {},
   "outputs": [
    {
     "data": {
      "text/plain": [
       "array(['outofstock', 'instock'], dtype=object)"
      ]
     },
     "execution_count": 138,
     "metadata": {},
     "output_type": "execute_result"
    }
   ],
   "source": [
    "erp.stock_status.unique()"
   ]
  },
  {
   "cell_type": "code",
   "execution_count": 139,
   "metadata": {},
   "outputs": [
    {
     "data": {
      "text/html": [
       "<div>\n",
       "<style scoped>\n",
       "    .dataframe tbody tr th:only-of-type {\n",
       "        vertical-align: middle;\n",
       "    }\n",
       "\n",
       "    .dataframe tbody tr th {\n",
       "        vertical-align: top;\n",
       "    }\n",
       "\n",
       "    .dataframe thead th {\n",
       "        text-align: right;\n",
       "    }\n",
       "</style>\n",
       "<table border=\"1\" class=\"dataframe\">\n",
       "  <thead>\n",
       "    <tr style=\"text-align: right;\">\n",
       "      <th></th>\n",
       "      <th>product_id</th>\n",
       "      <th>onsale_web</th>\n",
       "      <th>price</th>\n",
       "      <th>stock_quantity</th>\n",
       "    </tr>\n",
       "  </thead>\n",
       "  <tbody>\n",
       "    <tr>\n",
       "      <th>count</th>\n",
       "      <td>825.000000</td>\n",
       "      <td>825.000000</td>\n",
       "      <td>825.000000</td>\n",
       "      <td>825.000000</td>\n",
       "    </tr>\n",
       "    <tr>\n",
       "      <th>mean</th>\n",
       "      <td>5162.597576</td>\n",
       "      <td>0.869091</td>\n",
       "      <td>32.415636</td>\n",
       "      <td>26.496970</td>\n",
       "    </tr>\n",
       "    <tr>\n",
       "      <th>std</th>\n",
       "      <td>902.644635</td>\n",
       "      <td>0.337506</td>\n",
       "      <td>26.795849</td>\n",
       "      <td>45.892422</td>\n",
       "    </tr>\n",
       "    <tr>\n",
       "      <th>min</th>\n",
       "      <td>3847.000000</td>\n",
       "      <td>0.000000</td>\n",
       "      <td>5.200000</td>\n",
       "      <td>0.000000</td>\n",
       "    </tr>\n",
       "    <tr>\n",
       "      <th>25%</th>\n",
       "      <td>4348.000000</td>\n",
       "      <td>1.000000</td>\n",
       "      <td>14.600000</td>\n",
       "      <td>1.000000</td>\n",
       "    </tr>\n",
       "    <tr>\n",
       "      <th>50%</th>\n",
       "      <td>4907.000000</td>\n",
       "      <td>1.000000</td>\n",
       "      <td>24.400000</td>\n",
       "      <td>11.000000</td>\n",
       "    </tr>\n",
       "    <tr>\n",
       "      <th>75%</th>\n",
       "      <td>5805.000000</td>\n",
       "      <td>1.000000</td>\n",
       "      <td>42.000000</td>\n",
       "      <td>34.000000</td>\n",
       "    </tr>\n",
       "    <tr>\n",
       "      <th>max</th>\n",
       "      <td>7338.000000</td>\n",
       "      <td>1.000000</td>\n",
       "      <td>225.000000</td>\n",
       "      <td>578.000000</td>\n",
       "    </tr>\n",
       "  </tbody>\n",
       "</table>\n",
       "</div>"
      ],
      "text/plain": [
       "        product_id  onsale_web       price  stock_quantity\n",
       "count   825.000000  825.000000  825.000000      825.000000\n",
       "mean   5162.597576    0.869091   32.415636       26.496970\n",
       "std     902.644635    0.337506   26.795849       45.892422\n",
       "min    3847.000000    0.000000    5.200000        0.000000\n",
       "25%    4348.000000    1.000000   14.600000        1.000000\n",
       "50%    4907.000000    1.000000   24.400000       11.000000\n",
       "75%    5805.000000    1.000000   42.000000       34.000000\n",
       "max    7338.000000    1.000000  225.000000      578.000000"
      ]
     },
     "execution_count": 139,
     "metadata": {},
     "output_type": "execute_result"
    }
   ],
   "source": [
    "erp.describe()"
   ]
  },
  {
   "cell_type": "code",
   "execution_count": 140,
   "metadata": {},
   "outputs": [
    {
     "data": {
      "text/plain": [
       "825"
      ]
     },
     "execution_count": 140,
     "metadata": {},
     "output_type": "execute_result"
    }
   ],
   "source": [
    "erp.product_id.nunique()"
   ]
  },
  {
   "cell_type": "markdown",
   "metadata": {},
   "source": [
    "# Etude du fichier WEB"
   ]
  },
  {
   "cell_type": "code",
   "execution_count": 141,
   "metadata": {},
   "outputs": [
    {
     "data": {
      "text/html": [
       "<div>\n",
       "<style scoped>\n",
       "    .dataframe tbody tr th:only-of-type {\n",
       "        vertical-align: middle;\n",
       "    }\n",
       "\n",
       "    .dataframe tbody tr th {\n",
       "        vertical-align: top;\n",
       "    }\n",
       "\n",
       "    .dataframe thead th {\n",
       "        text-align: right;\n",
       "    }\n",
       "</style>\n",
       "<table border=\"1\" class=\"dataframe\">\n",
       "  <thead>\n",
       "    <tr style=\"text-align: right;\">\n",
       "      <th></th>\n",
       "      <th>sku</th>\n",
       "      <th>virtual</th>\n",
       "      <th>downloadable</th>\n",
       "      <th>rating_count</th>\n",
       "      <th>average_rating</th>\n",
       "      <th>total_sales</th>\n",
       "      <th>tax_status</th>\n",
       "      <th>tax_class</th>\n",
       "      <th>post_author</th>\n",
       "      <th>post_date</th>\n",
       "      <th>...</th>\n",
       "      <th>post_name</th>\n",
       "      <th>post_modified</th>\n",
       "      <th>post_modified_gmt</th>\n",
       "      <th>post_content_filtered</th>\n",
       "      <th>post_parent</th>\n",
       "      <th>guid</th>\n",
       "      <th>menu_order</th>\n",
       "      <th>post_type</th>\n",
       "      <th>post_mime_type</th>\n",
       "      <th>comment_count</th>\n",
       "    </tr>\n",
       "  </thead>\n",
       "  <tbody>\n",
       "    <tr>\n",
       "      <th>0</th>\n",
       "      <td>16230</td>\n",
       "      <td>0</td>\n",
       "      <td>0</td>\n",
       "      <td>0</td>\n",
       "      <td>0.0</td>\n",
       "      <td>0.0</td>\n",
       "      <td>taxable</td>\n",
       "      <td>NaN</td>\n",
       "      <td>2.0</td>\n",
       "      <td>2020-07-20 11:00:00</td>\n",
       "      <td>...</td>\n",
       "      <td>domaine-saint-nicolas-fiefs-vendeens-blanc-les...</td>\n",
       "      <td>2020-08-13 10:45:03</td>\n",
       "      <td>2020-08-13 08:45:03</td>\n",
       "      <td>NaN</td>\n",
       "      <td>0.0</td>\n",
       "      <td>https://www.bottle-neck.fr/?post_type=product&amp;...</td>\n",
       "      <td>0.0</td>\n",
       "      <td>product</td>\n",
       "      <td>NaN</td>\n",
       "      <td>0.0</td>\n",
       "    </tr>\n",
       "    <tr>\n",
       "      <th>1</th>\n",
       "      <td>16230</td>\n",
       "      <td>0</td>\n",
       "      <td>0</td>\n",
       "      <td>0</td>\n",
       "      <td>0.0</td>\n",
       "      <td>0.0</td>\n",
       "      <td>NaN</td>\n",
       "      <td>NaN</td>\n",
       "      <td>2.0</td>\n",
       "      <td>2020-07-20 11:00:00</td>\n",
       "      <td>...</td>\n",
       "      <td>domaine-saint-nicolas-fiefs-vendeens-blanc-les...</td>\n",
       "      <td>2020-08-13 10:45:03</td>\n",
       "      <td>2020-08-13 08:45:03</td>\n",
       "      <td>NaN</td>\n",
       "      <td>0.0</td>\n",
       "      <td>https://www.bottle-neck.fr/wp-content/uploads/...</td>\n",
       "      <td>0.0</td>\n",
       "      <td>attachment</td>\n",
       "      <td>image/jpeg</td>\n",
       "      <td>0.0</td>\n",
       "    </tr>\n",
       "    <tr>\n",
       "      <th>2</th>\n",
       "      <td>13127-1</td>\n",
       "      <td>0</td>\n",
       "      <td>0</td>\n",
       "      <td>0</td>\n",
       "      <td>0.0</td>\n",
       "      <td>0.0</td>\n",
       "      <td>taxable</td>\n",
       "      <td>NaN</td>\n",
       "      <td>2.0</td>\n",
       "      <td>2020-06-09 15:42:04</td>\n",
       "      <td>...</td>\n",
       "      <td>clos-du-mont-olivet-chateauneuf-du-pape-2007-2</td>\n",
       "      <td>2020-07-20 17:09:06</td>\n",
       "      <td>2020-07-20 15:09:06</td>\n",
       "      <td>NaN</td>\n",
       "      <td>0.0</td>\n",
       "      <td>https://www.bottle-neck.fr/?post_type=product&amp;...</td>\n",
       "      <td>0.0</td>\n",
       "      <td>product</td>\n",
       "      <td>NaN</td>\n",
       "      <td>0.0</td>\n",
       "    </tr>\n",
       "    <tr>\n",
       "      <th>3</th>\n",
       "      <td>13127-1</td>\n",
       "      <td>0</td>\n",
       "      <td>0</td>\n",
       "      <td>0</td>\n",
       "      <td>0.0</td>\n",
       "      <td>0.0</td>\n",
       "      <td>NaN</td>\n",
       "      <td>NaN</td>\n",
       "      <td>2.0</td>\n",
       "      <td>2020-06-09 15:42:04</td>\n",
       "      <td>...</td>\n",
       "      <td>clos-du-mont-olivet-chateauneuf-du-pape-2007-2</td>\n",
       "      <td>2020-07-20 17:09:06</td>\n",
       "      <td>2020-07-20 15:09:06</td>\n",
       "      <td>NaN</td>\n",
       "      <td>0.0</td>\n",
       "      <td>https://www.bottle-neck.fr/wp-content/uploads/...</td>\n",
       "      <td>0.0</td>\n",
       "      <td>attachment</td>\n",
       "      <td>image/jpeg</td>\n",
       "      <td>0.0</td>\n",
       "    </tr>\n",
       "    <tr>\n",
       "      <th>4</th>\n",
       "      <td>15887</td>\n",
       "      <td>0</td>\n",
       "      <td>0</td>\n",
       "      <td>0</td>\n",
       "      <td>0.0</td>\n",
       "      <td>0.0</td>\n",
       "      <td>taxable</td>\n",
       "      <td>NaN</td>\n",
       "      <td>2.0</td>\n",
       "      <td>2020-05-02 15:00:54</td>\n",
       "      <td>...</td>\n",
       "      <td>jamet-cote-rotie-fructus-voluptas-2018</td>\n",
       "      <td>2020-08-14 18:15:03</td>\n",
       "      <td>2020-08-14 16:15:03</td>\n",
       "      <td>NaN</td>\n",
       "      <td>0.0</td>\n",
       "      <td>https://www.bottle-neck.fr/?post_type=product&amp;...</td>\n",
       "      <td>0.0</td>\n",
       "      <td>product</td>\n",
       "      <td>NaN</td>\n",
       "      <td>0.0</td>\n",
       "    </tr>\n",
       "  </tbody>\n",
       "</table>\n",
       "<p>5 rows × 28 columns</p>\n",
       "</div>"
      ],
      "text/plain": [
       "       sku  virtual  downloadable  rating_count  average_rating  total_sales  \\\n",
       "0    16230        0             0             0             0.0          0.0   \n",
       "1    16230        0             0             0             0.0          0.0   \n",
       "2  13127-1        0             0             0             0.0          0.0   \n",
       "3  13127-1        0             0             0             0.0          0.0   \n",
       "4    15887        0             0             0             0.0          0.0   \n",
       "\n",
       "  tax_status  tax_class  post_author           post_date  ...  \\\n",
       "0    taxable        NaN          2.0 2020-07-20 11:00:00  ...   \n",
       "1        NaN        NaN          2.0 2020-07-20 11:00:00  ...   \n",
       "2    taxable        NaN          2.0 2020-06-09 15:42:04  ...   \n",
       "3        NaN        NaN          2.0 2020-06-09 15:42:04  ...   \n",
       "4    taxable        NaN          2.0 2020-05-02 15:00:54  ...   \n",
       "\n",
       "                                           post_name       post_modified  \\\n",
       "0  domaine-saint-nicolas-fiefs-vendeens-blanc-les... 2020-08-13 10:45:03   \n",
       "1  domaine-saint-nicolas-fiefs-vendeens-blanc-les... 2020-08-13 10:45:03   \n",
       "2     clos-du-mont-olivet-chateauneuf-du-pape-2007-2 2020-07-20 17:09:06   \n",
       "3     clos-du-mont-olivet-chateauneuf-du-pape-2007-2 2020-07-20 17:09:06   \n",
       "4             jamet-cote-rotie-fructus-voluptas-2018 2020-08-14 18:15:03   \n",
       "\n",
       "    post_modified_gmt post_content_filtered post_parent  \\\n",
       "0 2020-08-13 08:45:03                   NaN         0.0   \n",
       "1 2020-08-13 08:45:03                   NaN         0.0   \n",
       "2 2020-07-20 15:09:06                   NaN         0.0   \n",
       "3 2020-07-20 15:09:06                   NaN         0.0   \n",
       "4 2020-08-14 16:15:03                   NaN         0.0   \n",
       "\n",
       "                                                guid menu_order   post_type  \\\n",
       "0  https://www.bottle-neck.fr/?post_type=product&...        0.0     product   \n",
       "1  https://www.bottle-neck.fr/wp-content/uploads/...        0.0  attachment   \n",
       "2  https://www.bottle-neck.fr/?post_type=product&...        0.0     product   \n",
       "3  https://www.bottle-neck.fr/wp-content/uploads/...        0.0  attachment   \n",
       "4  https://www.bottle-neck.fr/?post_type=product&...        0.0     product   \n",
       "\n",
       "  post_mime_type comment_count  \n",
       "0            NaN           0.0  \n",
       "1     image/jpeg           0.0  \n",
       "2            NaN           0.0  \n",
       "3     image/jpeg           0.0  \n",
       "4            NaN           0.0  \n",
       "\n",
       "[5 rows x 28 columns]"
      ]
     },
     "execution_count": 141,
     "metadata": {},
     "output_type": "execute_result"
    }
   ],
   "source": [
    "web = pd.read_excel('data\\web.xlsx')\n",
    "web.head()"
   ]
  },
  {
   "cell_type": "code",
   "execution_count": 142,
   "metadata": {
    "scrolled": false
   },
   "outputs": [
    {
     "name": "stdout",
     "output_type": "stream",
     "text": [
      "<class 'pandas.core.frame.DataFrame'>\n",
      "RangeIndex: 1513 entries, 0 to 1512\n",
      "Data columns (total 28 columns):\n",
      " #   Column                 Non-Null Count  Dtype         \n",
      "---  ------                 --------------  -----         \n",
      " 0   sku                    1428 non-null   object        \n",
      " 1   virtual                1513 non-null   int64         \n",
      " 2   downloadable           1513 non-null   int64         \n",
      " 3   rating_count           1513 non-null   int64         \n",
      " 4   average_rating         1430 non-null   float64       \n",
      " 5   total_sales            1430 non-null   float64       \n",
      " 6   tax_status             716 non-null    object        \n",
      " 7   tax_class              0 non-null      float64       \n",
      " 8   post_author            1430 non-null   float64       \n",
      " 9   post_date              1430 non-null   datetime64[ns]\n",
      " 10  post_date_gmt          1430 non-null   datetime64[ns]\n",
      " 11  post_content           0 non-null      float64       \n",
      " 12  post_title             1430 non-null   object        \n",
      " 13  post_excerpt           716 non-null    object        \n",
      " 14  post_status            1430 non-null   object        \n",
      " 15  comment_status         1430 non-null   object        \n",
      " 16  ping_status            1430 non-null   object        \n",
      " 17  post_password          0 non-null      float64       \n",
      " 18  post_name              1430 non-null   object        \n",
      " 19  post_modified          1430 non-null   datetime64[ns]\n",
      " 20  post_modified_gmt      1430 non-null   datetime64[ns]\n",
      " 21  post_content_filtered  0 non-null      float64       \n",
      " 22  post_parent            1430 non-null   float64       \n",
      " 23  guid                   1430 non-null   object        \n",
      " 24  menu_order             1430 non-null   float64       \n",
      " 25  post_type              1430 non-null   object        \n",
      " 26  post_mime_type         714 non-null    object        \n",
      " 27  comment_count          1430 non-null   float64       \n",
      "dtypes: datetime64[ns](4), float64(10), int64(3), object(11)\n",
      "memory usage: 331.1+ KB\n"
     ]
    }
   ],
   "source": [
    "web.info()"
   ]
  },
  {
   "cell_type": "code",
   "execution_count": 143,
   "metadata": {
    "scrolled": true
   },
   "outputs": [
    {
     "data": {
      "text/plain": [
       "714"
      ]
     },
     "execution_count": 143,
     "metadata": {},
     "output_type": "execute_result"
    }
   ],
   "source": [
    "web.sku.nunique()"
   ]
  },
  {
   "cell_type": "code",
   "execution_count": 144,
   "metadata": {},
   "outputs": [
    {
     "data": {
      "text/html": [
       "<div>\n",
       "<style scoped>\n",
       "    .dataframe tbody tr th:only-of-type {\n",
       "        vertical-align: middle;\n",
       "    }\n",
       "\n",
       "    .dataframe tbody tr th {\n",
       "        vertical-align: top;\n",
       "    }\n",
       "\n",
       "    .dataframe thead th {\n",
       "        text-align: right;\n",
       "    }\n",
       "</style>\n",
       "<table border=\"1\" class=\"dataframe\">\n",
       "  <thead>\n",
       "    <tr style=\"text-align: right;\">\n",
       "      <th></th>\n",
       "      <th>virtual</th>\n",
       "      <th>downloadable</th>\n",
       "      <th>rating_count</th>\n",
       "      <th>average_rating</th>\n",
       "      <th>total_sales</th>\n",
       "      <th>tax_class</th>\n",
       "      <th>post_author</th>\n",
       "      <th>post_content</th>\n",
       "      <th>post_password</th>\n",
       "      <th>post_content_filtered</th>\n",
       "      <th>post_parent</th>\n",
       "      <th>menu_order</th>\n",
       "      <th>comment_count</th>\n",
       "    </tr>\n",
       "  </thead>\n",
       "  <tbody>\n",
       "    <tr>\n",
       "      <th>count</th>\n",
       "      <td>1513.0</td>\n",
       "      <td>1513.0</td>\n",
       "      <td>1513.0</td>\n",
       "      <td>1430.0</td>\n",
       "      <td>1430.000000</td>\n",
       "      <td>0.0</td>\n",
       "      <td>1430.000000</td>\n",
       "      <td>0.0</td>\n",
       "      <td>0.0</td>\n",
       "      <td>0.0</td>\n",
       "      <td>1430.0</td>\n",
       "      <td>1430.0</td>\n",
       "      <td>1430.0</td>\n",
       "    </tr>\n",
       "    <tr>\n",
       "      <th>mean</th>\n",
       "      <td>0.0</td>\n",
       "      <td>0.0</td>\n",
       "      <td>0.0</td>\n",
       "      <td>0.0</td>\n",
       "      <td>4.006993</td>\n",
       "      <td>NaN</td>\n",
       "      <td>1.998601</td>\n",
       "      <td>NaN</td>\n",
       "      <td>NaN</td>\n",
       "      <td>NaN</td>\n",
       "      <td>0.0</td>\n",
       "      <td>0.0</td>\n",
       "      <td>0.0</td>\n",
       "    </tr>\n",
       "    <tr>\n",
       "      <th>std</th>\n",
       "      <td>0.0</td>\n",
       "      <td>0.0</td>\n",
       "      <td>0.0</td>\n",
       "      <td>0.0</td>\n",
       "      <td>8.510559</td>\n",
       "      <td>NaN</td>\n",
       "      <td>0.037385</td>\n",
       "      <td>NaN</td>\n",
       "      <td>NaN</td>\n",
       "      <td>NaN</td>\n",
       "      <td>0.0</td>\n",
       "      <td>0.0</td>\n",
       "      <td>0.0</td>\n",
       "    </tr>\n",
       "    <tr>\n",
       "      <th>min</th>\n",
       "      <td>0.0</td>\n",
       "      <td>0.0</td>\n",
       "      <td>0.0</td>\n",
       "      <td>0.0</td>\n",
       "      <td>0.000000</td>\n",
       "      <td>NaN</td>\n",
       "      <td>1.000000</td>\n",
       "      <td>NaN</td>\n",
       "      <td>NaN</td>\n",
       "      <td>NaN</td>\n",
       "      <td>0.0</td>\n",
       "      <td>0.0</td>\n",
       "      <td>0.0</td>\n",
       "    </tr>\n",
       "    <tr>\n",
       "      <th>25%</th>\n",
       "      <td>0.0</td>\n",
       "      <td>0.0</td>\n",
       "      <td>0.0</td>\n",
       "      <td>0.0</td>\n",
       "      <td>0.000000</td>\n",
       "      <td>NaN</td>\n",
       "      <td>2.000000</td>\n",
       "      <td>NaN</td>\n",
       "      <td>NaN</td>\n",
       "      <td>NaN</td>\n",
       "      <td>0.0</td>\n",
       "      <td>0.0</td>\n",
       "      <td>0.0</td>\n",
       "    </tr>\n",
       "    <tr>\n",
       "      <th>50%</th>\n",
       "      <td>0.0</td>\n",
       "      <td>0.0</td>\n",
       "      <td>0.0</td>\n",
       "      <td>0.0</td>\n",
       "      <td>1.000000</td>\n",
       "      <td>NaN</td>\n",
       "      <td>2.000000</td>\n",
       "      <td>NaN</td>\n",
       "      <td>NaN</td>\n",
       "      <td>NaN</td>\n",
       "      <td>0.0</td>\n",
       "      <td>0.0</td>\n",
       "      <td>0.0</td>\n",
       "    </tr>\n",
       "    <tr>\n",
       "      <th>75%</th>\n",
       "      <td>0.0</td>\n",
       "      <td>0.0</td>\n",
       "      <td>0.0</td>\n",
       "      <td>0.0</td>\n",
       "      <td>4.000000</td>\n",
       "      <td>NaN</td>\n",
       "      <td>2.000000</td>\n",
       "      <td>NaN</td>\n",
       "      <td>NaN</td>\n",
       "      <td>NaN</td>\n",
       "      <td>0.0</td>\n",
       "      <td>0.0</td>\n",
       "      <td>0.0</td>\n",
       "    </tr>\n",
       "    <tr>\n",
       "      <th>max</th>\n",
       "      <td>0.0</td>\n",
       "      <td>0.0</td>\n",
       "      <td>0.0</td>\n",
       "      <td>0.0</td>\n",
       "      <td>96.000000</td>\n",
       "      <td>NaN</td>\n",
       "      <td>2.000000</td>\n",
       "      <td>NaN</td>\n",
       "      <td>NaN</td>\n",
       "      <td>NaN</td>\n",
       "      <td>0.0</td>\n",
       "      <td>0.0</td>\n",
       "      <td>0.0</td>\n",
       "    </tr>\n",
       "  </tbody>\n",
       "</table>\n",
       "</div>"
      ],
      "text/plain": [
       "       virtual  downloadable  rating_count  average_rating  total_sales  \\\n",
       "count   1513.0        1513.0        1513.0          1430.0  1430.000000   \n",
       "mean       0.0           0.0           0.0             0.0     4.006993   \n",
       "std        0.0           0.0           0.0             0.0     8.510559   \n",
       "min        0.0           0.0           0.0             0.0     0.000000   \n",
       "25%        0.0           0.0           0.0             0.0     0.000000   \n",
       "50%        0.0           0.0           0.0             0.0     1.000000   \n",
       "75%        0.0           0.0           0.0             0.0     4.000000   \n",
       "max        0.0           0.0           0.0             0.0    96.000000   \n",
       "\n",
       "       tax_class  post_author  post_content  post_password  \\\n",
       "count        0.0  1430.000000           0.0            0.0   \n",
       "mean         NaN     1.998601           NaN            NaN   \n",
       "std          NaN     0.037385           NaN            NaN   \n",
       "min          NaN     1.000000           NaN            NaN   \n",
       "25%          NaN     2.000000           NaN            NaN   \n",
       "50%          NaN     2.000000           NaN            NaN   \n",
       "75%          NaN     2.000000           NaN            NaN   \n",
       "max          NaN     2.000000           NaN            NaN   \n",
       "\n",
       "       post_content_filtered  post_parent  menu_order  comment_count  \n",
       "count                    0.0       1430.0      1430.0         1430.0  \n",
       "mean                     NaN          0.0         0.0            0.0  \n",
       "std                      NaN          0.0         0.0            0.0  \n",
       "min                      NaN          0.0         0.0            0.0  \n",
       "25%                      NaN          0.0         0.0            0.0  \n",
       "50%                      NaN          0.0         0.0            0.0  \n",
       "75%                      NaN          0.0         0.0            0.0  \n",
       "max                      NaN          0.0         0.0            0.0  "
      ]
     },
     "execution_count": 144,
     "metadata": {},
     "output_type": "execute_result"
    }
   ],
   "source": [
    "web.describe()"
   ]
  },
  {
   "cell_type": "code",
   "execution_count": 145,
   "metadata": {},
   "outputs": [
    {
     "data": {
      "text/html": [
       "<div>\n",
       "<style scoped>\n",
       "    .dataframe tbody tr th:only-of-type {\n",
       "        vertical-align: middle;\n",
       "    }\n",
       "\n",
       "    .dataframe tbody tr th {\n",
       "        vertical-align: top;\n",
       "    }\n",
       "\n",
       "    .dataframe thead th {\n",
       "        text-align: right;\n",
       "    }\n",
       "</style>\n",
       "<table border=\"1\" class=\"dataframe\">\n",
       "  <thead>\n",
       "    <tr style=\"text-align: right;\">\n",
       "      <th></th>\n",
       "      <th>sku</th>\n",
       "      <th>total_sales</th>\n",
       "      <th>post_date</th>\n",
       "      <th>post_title</th>\n",
       "    </tr>\n",
       "  </thead>\n",
       "  <tbody>\n",
       "    <tr>\n",
       "      <th>0</th>\n",
       "      <td>16230</td>\n",
       "      <td>0.0</td>\n",
       "      <td>2020-07-20 11:00:00</td>\n",
       "      <td>Domaine Saint-Nicolas Vin de France Blanc Les ...</td>\n",
       "    </tr>\n",
       "    <tr>\n",
       "      <th>2</th>\n",
       "      <td>13127-1</td>\n",
       "      <td>0.0</td>\n",
       "      <td>2020-06-09 15:42:04</td>\n",
       "      <td>Clos du Mont-Olivet Châteauneuf-du-Pape 2007</td>\n",
       "    </tr>\n",
       "    <tr>\n",
       "      <th>4</th>\n",
       "      <td>15887</td>\n",
       "      <td>0.0</td>\n",
       "      <td>2020-05-02 15:00:54</td>\n",
       "      <td>Domaine Jamet Côte Rôtie Fructus Voluptas 2018</td>\n",
       "    </tr>\n",
       "    <tr>\n",
       "      <th>6</th>\n",
       "      <td>15891</td>\n",
       "      <td>0.0</td>\n",
       "      <td>2020-05-02 14:53:40</td>\n",
       "      <td>Camin Larredya Jurançon Sec La Virada 2018</td>\n",
       "    </tr>\n",
       "    <tr>\n",
       "      <th>8</th>\n",
       "      <td>16135</td>\n",
       "      <td>5.0</td>\n",
       "      <td>2020-04-25 13:22:38</td>\n",
       "      <td>Mouthes Le Bihan Côtes de Duras L'Aimé Chai 2015</td>\n",
       "    </tr>\n",
       "  </tbody>\n",
       "</table>\n",
       "</div>"
      ],
      "text/plain": [
       "       sku  total_sales           post_date  \\\n",
       "0    16230          0.0 2020-07-20 11:00:00   \n",
       "2  13127-1          0.0 2020-06-09 15:42:04   \n",
       "4    15887          0.0 2020-05-02 15:00:54   \n",
       "6    15891          0.0 2020-05-02 14:53:40   \n",
       "8    16135          5.0 2020-04-25 13:22:38   \n",
       "\n",
       "                                          post_title  \n",
       "0  Domaine Saint-Nicolas Vin de France Blanc Les ...  \n",
       "2       Clos du Mont-Olivet Châteauneuf-du-Pape 2007  \n",
       "4     Domaine Jamet Côte Rôtie Fructus Voluptas 2018  \n",
       "6         Camin Larredya Jurançon Sec La Virada 2018  \n",
       "8   Mouthes Le Bihan Côtes de Duras L'Aimé Chai 2015  "
      ]
     },
     "execution_count": 145,
     "metadata": {},
     "output_type": "execute_result"
    }
   ],
   "source": [
    "#Supprime les doublons \n",
    "web = web.drop_duplicates(subset=['sku','total_sales','post_title','post_date'])\n",
    "\n",
    "#Conserve uniquement les colonnes utiles\n",
    "web = web[['sku','total_sales','post_date','post_title']]\n",
    "\n",
    "web.head()"
   ]
  },
  {
   "cell_type": "code",
   "execution_count": 146,
   "metadata": {
    "scrolled": false
   },
   "outputs": [
    {
     "name": "stdout",
     "output_type": "stream",
     "text": [
      "<class 'pandas.core.frame.DataFrame'>\n",
      "Int64Index: 717 entries, 0 to 1451\n",
      "Data columns (total 4 columns):\n",
      " #   Column       Non-Null Count  Dtype         \n",
      "---  ------       --------------  -----         \n",
      " 0   sku          714 non-null    object        \n",
      " 1   total_sales  716 non-null    float64       \n",
      " 2   post_date    716 non-null    datetime64[ns]\n",
      " 3   post_title   716 non-null    object        \n",
      "dtypes: datetime64[ns](1), float64(1), object(2)\n",
      "memory usage: 28.0+ KB\n"
     ]
    }
   ],
   "source": [
    "web.info()"
   ]
  },
  {
   "cell_type": "code",
   "execution_count": 147,
   "metadata": {},
   "outputs": [
    {
     "name": "stdout",
     "output_type": "stream",
     "text": [
      "<class 'pandas.core.frame.DataFrame'>\n",
      "Int64Index: 714 entries, 0 to 1426\n",
      "Data columns (total 4 columns):\n",
      " #   Column       Non-Null Count  Dtype         \n",
      "---  ------       --------------  -----         \n",
      " 0   sku          714 non-null    object        \n",
      " 1   total_sales  714 non-null    float64       \n",
      " 2   post_date    714 non-null    datetime64[ns]\n",
      " 3   post_title   714 non-null    object        \n",
      "dtypes: datetime64[ns](1), float64(1), object(2)\n",
      "memory usage: 27.9+ KB\n"
     ]
    }
   ],
   "source": [
    "#Supprime les lignes où sku est nul\n",
    "web = web.dropna(subset=['sku'])\n",
    "web.info()"
   ]
  },
  {
   "cell_type": "markdown",
   "metadata": {},
   "source": [
    "# Etude du fichier liaison"
   ]
  },
  {
   "cell_type": "code",
   "execution_count": 148,
   "metadata": {},
   "outputs": [
    {
     "data": {
      "text/html": [
       "<div>\n",
       "<style scoped>\n",
       "    .dataframe tbody tr th:only-of-type {\n",
       "        vertical-align: middle;\n",
       "    }\n",
       "\n",
       "    .dataframe tbody tr th {\n",
       "        vertical-align: top;\n",
       "    }\n",
       "\n",
       "    .dataframe thead th {\n",
       "        text-align: right;\n",
       "    }\n",
       "</style>\n",
       "<table border=\"1\" class=\"dataframe\">\n",
       "  <thead>\n",
       "    <tr style=\"text-align: right;\">\n",
       "      <th></th>\n",
       "      <th>product_id</th>\n",
       "      <th>id_web</th>\n",
       "    </tr>\n",
       "  </thead>\n",
       "  <tbody>\n",
       "    <tr>\n",
       "      <th>0</th>\n",
       "      <td>3847</td>\n",
       "      <td>15298</td>\n",
       "    </tr>\n",
       "    <tr>\n",
       "      <th>1</th>\n",
       "      <td>3849</td>\n",
       "      <td>15296</td>\n",
       "    </tr>\n",
       "    <tr>\n",
       "      <th>2</th>\n",
       "      <td>3850</td>\n",
       "      <td>15300</td>\n",
       "    </tr>\n",
       "    <tr>\n",
       "      <th>3</th>\n",
       "      <td>4032</td>\n",
       "      <td>19814</td>\n",
       "    </tr>\n",
       "    <tr>\n",
       "      <th>4</th>\n",
       "      <td>4039</td>\n",
       "      <td>19815</td>\n",
       "    </tr>\n",
       "  </tbody>\n",
       "</table>\n",
       "</div>"
      ],
      "text/plain": [
       "   product_id id_web\n",
       "0        3847  15298\n",
       "1        3849  15296\n",
       "2        3850  15300\n",
       "3        4032  19814\n",
       "4        4039  19815"
      ]
     },
     "execution_count": 148,
     "metadata": {},
     "output_type": "execute_result"
    }
   ],
   "source": [
    "liaison = pd.read_excel('data\\liaison.xlsx')\n",
    "liaison.head()"
   ]
  },
  {
   "cell_type": "code",
   "execution_count": 149,
   "metadata": {},
   "outputs": [
    {
     "name": "stdout",
     "output_type": "stream",
     "text": [
      "<class 'pandas.core.frame.DataFrame'>\n",
      "RangeIndex: 825 entries, 0 to 824\n",
      "Data columns (total 2 columns):\n",
      " #   Column      Non-Null Count  Dtype \n",
      "---  ------      --------------  ----- \n",
      " 0   product_id  825 non-null    int64 \n",
      " 1   id_web      734 non-null    object\n",
      "dtypes: int64(1), object(1)\n",
      "memory usage: 13.0+ KB\n"
     ]
    }
   ],
   "source": [
    "liaison.info()"
   ]
  },
  {
   "cell_type": "code",
   "execution_count": 150,
   "metadata": {},
   "outputs": [
    {
     "data": {
      "text/plain": [
       "825"
      ]
     },
     "execution_count": 150,
     "metadata": {},
     "output_type": "execute_result"
    }
   ],
   "source": [
    "liaison.product_id.nunique()"
   ]
  },
  {
   "cell_type": "code",
   "execution_count": 151,
   "metadata": {},
   "outputs": [
    {
     "data": {
      "text/plain": [
       "734"
      ]
     },
     "execution_count": 151,
     "metadata": {},
     "output_type": "execute_result"
    }
   ],
   "source": [
    "liaison.id_web.nunique()"
   ]
  },
  {
   "cell_type": "code",
   "execution_count": 152,
   "metadata": {
    "scrolled": false
   },
   "outputs": [
    {
     "name": "stdout",
     "output_type": "stream",
     "text": [
      "True    825\n",
      "Name: product_id, dtype: int64\n"
     ]
    }
   ],
   "source": [
    "print((liaison['product_id'] == erp['product_id']).value_counts())"
   ]
  },
  {
   "cell_type": "code",
   "execution_count": 153,
   "metadata": {},
   "outputs": [
    {
     "name": "stdout",
     "output_type": "stream",
     "text": [
      "True    714\n",
      "Name: sku, dtype: int64\n"
     ]
    }
   ],
   "source": [
    "print((web['sku'].isin(liaison['id_web'])).value_counts())"
   ]
  },
  {
   "cell_type": "code",
   "execution_count": 154,
   "metadata": {},
   "outputs": [
    {
     "name": "stdout",
     "output_type": "stream",
     "text": [
      "1    717\n",
      "0    108\n",
      "Name: onsale_web, dtype: int64\n"
     ]
    }
   ],
   "source": [
    "print(erp['onsale_web'].value_counts())"
   ]
  },
  {
   "cell_type": "markdown",
   "metadata": {},
   "source": [
    "# Combinaison des fichiers"
   ]
  },
  {
   "cell_type": "code",
   "execution_count": 155,
   "metadata": {},
   "outputs": [
    {
     "data": {
      "text/html": [
       "<div>\n",
       "<style scoped>\n",
       "    .dataframe tbody tr th:only-of-type {\n",
       "        vertical-align: middle;\n",
       "    }\n",
       "\n",
       "    .dataframe tbody tr th {\n",
       "        vertical-align: top;\n",
       "    }\n",
       "\n",
       "    .dataframe thead th {\n",
       "        text-align: right;\n",
       "    }\n",
       "</style>\n",
       "<table border=\"1\" class=\"dataframe\">\n",
       "  <thead>\n",
       "    <tr style=\"text-align: right;\">\n",
       "      <th></th>\n",
       "      <th>product_id</th>\n",
       "      <th>onsale_web</th>\n",
       "      <th>price</th>\n",
       "      <th>stock_quantity</th>\n",
       "      <th>stock_status</th>\n",
       "      <th>id_web</th>\n",
       "    </tr>\n",
       "  </thead>\n",
       "  <tbody>\n",
       "    <tr>\n",
       "      <th>0</th>\n",
       "      <td>3847</td>\n",
       "      <td>1</td>\n",
       "      <td>24.2</td>\n",
       "      <td>0</td>\n",
       "      <td>outofstock</td>\n",
       "      <td>15298</td>\n",
       "    </tr>\n",
       "    <tr>\n",
       "      <th>1</th>\n",
       "      <td>3849</td>\n",
       "      <td>1</td>\n",
       "      <td>34.3</td>\n",
       "      <td>0</td>\n",
       "      <td>outofstock</td>\n",
       "      <td>15296</td>\n",
       "    </tr>\n",
       "    <tr>\n",
       "      <th>2</th>\n",
       "      <td>3850</td>\n",
       "      <td>1</td>\n",
       "      <td>20.8</td>\n",
       "      <td>0</td>\n",
       "      <td>outofstock</td>\n",
       "      <td>15300</td>\n",
       "    </tr>\n",
       "    <tr>\n",
       "      <th>3</th>\n",
       "      <td>4032</td>\n",
       "      <td>1</td>\n",
       "      <td>14.1</td>\n",
       "      <td>0</td>\n",
       "      <td>outofstock</td>\n",
       "      <td>19814</td>\n",
       "    </tr>\n",
       "    <tr>\n",
       "      <th>4</th>\n",
       "      <td>4039</td>\n",
       "      <td>1</td>\n",
       "      <td>46.0</td>\n",
       "      <td>0</td>\n",
       "      <td>outofstock</td>\n",
       "      <td>19815</td>\n",
       "    </tr>\n",
       "  </tbody>\n",
       "</table>\n",
       "</div>"
      ],
      "text/plain": [
       "   product_id  onsale_web  price  stock_quantity stock_status id_web\n",
       "0        3847           1   24.2               0   outofstock  15298\n",
       "1        3849           1   34.3               0   outofstock  15296\n",
       "2        3850           1   20.8               0   outofstock  15300\n",
       "3        4032           1   14.1               0   outofstock  19814\n",
       "4        4039           1   46.0               0   outofstock  19815"
      ]
     },
     "execution_count": 155,
     "metadata": {},
     "output_type": "execute_result"
    }
   ],
   "source": [
    "df = pd.merge(erp, liaison, on='product_id')\n",
    "df.head()"
   ]
  },
  {
   "cell_type": "code",
   "execution_count": 156,
   "metadata": {
    "scrolled": false
   },
   "outputs": [
    {
     "name": "stdout",
     "output_type": "stream",
     "text": [
      "<class 'pandas.core.frame.DataFrame'>\n",
      "Int64Index: 825 entries, 0 to 824\n",
      "Data columns (total 6 columns):\n",
      " #   Column          Non-Null Count  Dtype  \n",
      "---  ------          --------------  -----  \n",
      " 0   product_id      825 non-null    int64  \n",
      " 1   onsale_web      825 non-null    int64  \n",
      " 2   price           825 non-null    float64\n",
      " 3   stock_quantity  825 non-null    int64  \n",
      " 4   stock_status    825 non-null    object \n",
      " 5   id_web          734 non-null    object \n",
      "dtypes: float64(1), int64(3), object(2)\n",
      "memory usage: 45.1+ KB\n"
     ]
    }
   ],
   "source": [
    "df.info()"
   ]
  },
  {
   "cell_type": "code",
   "execution_count": 157,
   "metadata": {},
   "outputs": [
    {
     "data": {
      "text/html": [
       "<div>\n",
       "<style scoped>\n",
       "    .dataframe tbody tr th:only-of-type {\n",
       "        vertical-align: middle;\n",
       "    }\n",
       "\n",
       "    .dataframe tbody tr th {\n",
       "        vertical-align: top;\n",
       "    }\n",
       "\n",
       "    .dataframe thead th {\n",
       "        text-align: right;\n",
       "    }\n",
       "</style>\n",
       "<table border=\"1\" class=\"dataframe\">\n",
       "  <thead>\n",
       "    <tr style=\"text-align: right;\">\n",
       "      <th></th>\n",
       "      <th>product_id</th>\n",
       "      <th>onsale_web</th>\n",
       "      <th>price</th>\n",
       "      <th>stock_quantity</th>\n",
       "      <th>stock_status</th>\n",
       "      <th>id_web</th>\n",
       "      <th>sku</th>\n",
       "      <th>total_sales</th>\n",
       "      <th>post_date</th>\n",
       "      <th>post_title</th>\n",
       "    </tr>\n",
       "  </thead>\n",
       "  <tbody>\n",
       "    <tr>\n",
       "      <th>0</th>\n",
       "      <td>3847</td>\n",
       "      <td>1</td>\n",
       "      <td>24.2</td>\n",
       "      <td>0</td>\n",
       "      <td>outofstock</td>\n",
       "      <td>15298</td>\n",
       "      <td>15298</td>\n",
       "      <td>6.0</td>\n",
       "      <td>2018-02-08 12:58:52</td>\n",
       "      <td>Pierre Jean Villa Saint-Joseph Préface 2018</td>\n",
       "    </tr>\n",
       "    <tr>\n",
       "      <th>1</th>\n",
       "      <td>3849</td>\n",
       "      <td>1</td>\n",
       "      <td>34.3</td>\n",
       "      <td>0</td>\n",
       "      <td>outofstock</td>\n",
       "      <td>15296</td>\n",
       "      <td>15296</td>\n",
       "      <td>0.0</td>\n",
       "      <td>2018-02-08 13:49:41</td>\n",
       "      <td>Pierre Jean Villa Saint-Joseph Rouge Tildé 2017</td>\n",
       "    </tr>\n",
       "    <tr>\n",
       "      <th>2</th>\n",
       "      <td>3850</td>\n",
       "      <td>1</td>\n",
       "      <td>20.8</td>\n",
       "      <td>0</td>\n",
       "      <td>outofstock</td>\n",
       "      <td>15300</td>\n",
       "      <td>15300</td>\n",
       "      <td>0.0</td>\n",
       "      <td>2018-02-08 14:08:36</td>\n",
       "      <td>Pierre Jean Villa Crozes-Hermitage Accroche Co...</td>\n",
       "    </tr>\n",
       "    <tr>\n",
       "      <th>3</th>\n",
       "      <td>4032</td>\n",
       "      <td>1</td>\n",
       "      <td>14.1</td>\n",
       "      <td>0</td>\n",
       "      <td>outofstock</td>\n",
       "      <td>19814</td>\n",
       "      <td>19814</td>\n",
       "      <td>3.0</td>\n",
       "      <td>2018-02-09 14:01:05</td>\n",
       "      <td>Pierre Jean Villa IGP Collines Rhodaniennes Ga...</td>\n",
       "    </tr>\n",
       "    <tr>\n",
       "      <th>4</th>\n",
       "      <td>4039</td>\n",
       "      <td>1</td>\n",
       "      <td>46.0</td>\n",
       "      <td>0</td>\n",
       "      <td>outofstock</td>\n",
       "      <td>19815</td>\n",
       "      <td>19815</td>\n",
       "      <td>0.0</td>\n",
       "      <td>2018-02-12 09:04:37</td>\n",
       "      <td>Pierre Jean Villa Côte Rôtie Carmina 2017</td>\n",
       "    </tr>\n",
       "  </tbody>\n",
       "</table>\n",
       "</div>"
      ],
      "text/plain": [
       "   product_id  onsale_web  price  stock_quantity stock_status id_web    sku  \\\n",
       "0        3847           1   24.2               0   outofstock  15298  15298   \n",
       "1        3849           1   34.3               0   outofstock  15296  15296   \n",
       "2        3850           1   20.8               0   outofstock  15300  15300   \n",
       "3        4032           1   14.1               0   outofstock  19814  19814   \n",
       "4        4039           1   46.0               0   outofstock  19815  19815   \n",
       "\n",
       "   total_sales           post_date  \\\n",
       "0          6.0 2018-02-08 12:58:52   \n",
       "1          0.0 2018-02-08 13:49:41   \n",
       "2          0.0 2018-02-08 14:08:36   \n",
       "3          3.0 2018-02-09 14:01:05   \n",
       "4          0.0 2018-02-12 09:04:37   \n",
       "\n",
       "                                          post_title  \n",
       "0        Pierre Jean Villa Saint-Joseph Préface 2018  \n",
       "1    Pierre Jean Villa Saint-Joseph Rouge Tildé 2017  \n",
       "2  Pierre Jean Villa Crozes-Hermitage Accroche Co...  \n",
       "3  Pierre Jean Villa IGP Collines Rhodaniennes Ga...  \n",
       "4          Pierre Jean Villa Côte Rôtie Carmina 2017  "
      ]
     },
     "execution_count": 157,
     "metadata": {},
     "output_type": "execute_result"
    }
   ],
   "source": [
    "df = pd.merge(df, web, left_on ='id_web', right_on = 'sku', how='inner')\n",
    "df.head()"
   ]
  },
  {
   "cell_type": "code",
   "execution_count": 158,
   "metadata": {},
   "outputs": [
    {
     "data": {
      "text/html": [
       "<div>\n",
       "<style scoped>\n",
       "    .dataframe tbody tr th:only-of-type {\n",
       "        vertical-align: middle;\n",
       "    }\n",
       "\n",
       "    .dataframe tbody tr th {\n",
       "        vertical-align: top;\n",
       "    }\n",
       "\n",
       "    .dataframe thead th {\n",
       "        text-align: right;\n",
       "    }\n",
       "</style>\n",
       "<table border=\"1\" class=\"dataframe\">\n",
       "  <thead>\n",
       "    <tr style=\"text-align: right;\">\n",
       "      <th></th>\n",
       "      <th>product_id</th>\n",
       "      <th>price</th>\n",
       "      <th>id_web</th>\n",
       "      <th>total_sales</th>\n",
       "      <th>post_date</th>\n",
       "      <th>post_title</th>\n",
       "    </tr>\n",
       "  </thead>\n",
       "  <tbody>\n",
       "    <tr>\n",
       "      <th>0</th>\n",
       "      <td>3847</td>\n",
       "      <td>24.2</td>\n",
       "      <td>15298</td>\n",
       "      <td>6.0</td>\n",
       "      <td>2018-02-08 12:58:52</td>\n",
       "      <td>Pierre Jean Villa Saint-Joseph Préface 2018</td>\n",
       "    </tr>\n",
       "    <tr>\n",
       "      <th>1</th>\n",
       "      <td>3849</td>\n",
       "      <td>34.3</td>\n",
       "      <td>15296</td>\n",
       "      <td>0.0</td>\n",
       "      <td>2018-02-08 13:49:41</td>\n",
       "      <td>Pierre Jean Villa Saint-Joseph Rouge Tildé 2017</td>\n",
       "    </tr>\n",
       "    <tr>\n",
       "      <th>2</th>\n",
       "      <td>3850</td>\n",
       "      <td>20.8</td>\n",
       "      <td>15300</td>\n",
       "      <td>0.0</td>\n",
       "      <td>2018-02-08 14:08:36</td>\n",
       "      <td>Pierre Jean Villa Crozes-Hermitage Accroche Co...</td>\n",
       "    </tr>\n",
       "    <tr>\n",
       "      <th>3</th>\n",
       "      <td>4032</td>\n",
       "      <td>14.1</td>\n",
       "      <td>19814</td>\n",
       "      <td>3.0</td>\n",
       "      <td>2018-02-09 14:01:05</td>\n",
       "      <td>Pierre Jean Villa IGP Collines Rhodaniennes Ga...</td>\n",
       "    </tr>\n",
       "    <tr>\n",
       "      <th>4</th>\n",
       "      <td>4039</td>\n",
       "      <td>46.0</td>\n",
       "      <td>19815</td>\n",
       "      <td>0.0</td>\n",
       "      <td>2018-02-12 09:04:37</td>\n",
       "      <td>Pierre Jean Villa Côte Rôtie Carmina 2017</td>\n",
       "    </tr>\n",
       "  </tbody>\n",
       "</table>\n",
       "</div>"
      ],
      "text/plain": [
       "   product_id  price id_web  total_sales           post_date  \\\n",
       "0        3847   24.2  15298          6.0 2018-02-08 12:58:52   \n",
       "1        3849   34.3  15296          0.0 2018-02-08 13:49:41   \n",
       "2        3850   20.8  15300          0.0 2018-02-08 14:08:36   \n",
       "3        4032   14.1  19814          3.0 2018-02-09 14:01:05   \n",
       "4        4039   46.0  19815          0.0 2018-02-12 09:04:37   \n",
       "\n",
       "                                          post_title  \n",
       "0        Pierre Jean Villa Saint-Joseph Préface 2018  \n",
       "1    Pierre Jean Villa Saint-Joseph Rouge Tildé 2017  \n",
       "2  Pierre Jean Villa Crozes-Hermitage Accroche Co...  \n",
       "3  Pierre Jean Villa IGP Collines Rhodaniennes Ga...  \n",
       "4          Pierre Jean Villa Côte Rôtie Carmina 2017  "
      ]
     },
     "execution_count": 158,
     "metadata": {},
     "output_type": "execute_result"
    }
   ],
   "source": [
    "df = df.drop(columns=['onsale_web','stock_quantity','stock_status','sku'])\n",
    "df.head()"
   ]
  },
  {
   "cell_type": "code",
   "execution_count": 159,
   "metadata": {},
   "outputs": [
    {
     "name": "stdout",
     "output_type": "stream",
     "text": [
      "<class 'pandas.core.frame.DataFrame'>\n",
      "Int64Index: 714 entries, 0 to 713\n",
      "Data columns (total 6 columns):\n",
      " #   Column       Non-Null Count  Dtype         \n",
      "---  ------       --------------  -----         \n",
      " 0   product_id   714 non-null    int64         \n",
      " 1   price        714 non-null    float64       \n",
      " 2   id_web       714 non-null    object        \n",
      " 3   total_sales  714 non-null    float64       \n",
      " 4   post_date    714 non-null    datetime64[ns]\n",
      " 5   post_title   714 non-null    object        \n",
      "dtypes: datetime64[ns](1), float64(2), int64(1), object(2)\n",
      "memory usage: 39.0+ KB\n"
     ]
    }
   ],
   "source": [
    "df.info()"
   ]
  },
  {
   "cell_type": "code",
   "execution_count": 160,
   "metadata": {},
   "outputs": [
    {
     "data": {
      "text/plain": [
       "714"
      ]
     },
     "execution_count": 160,
     "metadata": {},
     "output_type": "execute_result"
    }
   ],
   "source": [
    "df['product_id'].nunique()"
   ]
  },
  {
   "cell_type": "code",
   "execution_count": 161,
   "metadata": {},
   "outputs": [
    {
     "data": {
      "text/plain": [
       "714"
      ]
     },
     "execution_count": 161,
     "metadata": {},
     "output_type": "execute_result"
    }
   ],
   "source": [
    "df['id_web'].nunique()"
   ]
  },
  {
   "cell_type": "markdown",
   "metadata": {},
   "source": [
    "# Calcul du CA "
   ]
  },
  {
   "cell_type": "markdown",
   "metadata": {},
   "source": [
    "### CA par produit"
   ]
  },
  {
   "cell_type": "code",
   "execution_count": 162,
   "metadata": {
    "scrolled": true
   },
   "outputs": [
    {
     "data": {
      "text/html": [
       "<div>\n",
       "<style scoped>\n",
       "    .dataframe tbody tr th:only-of-type {\n",
       "        vertical-align: middle;\n",
       "    }\n",
       "\n",
       "    .dataframe tbody tr th {\n",
       "        vertical-align: top;\n",
       "    }\n",
       "\n",
       "    .dataframe thead th {\n",
       "        text-align: right;\n",
       "    }\n",
       "</style>\n",
       "<table border=\"1\" class=\"dataframe\">\n",
       "  <thead>\n",
       "    <tr style=\"text-align: right;\">\n",
       "      <th></th>\n",
       "      <th>product_id</th>\n",
       "      <th>price</th>\n",
       "      <th>id_web</th>\n",
       "      <th>total_sales</th>\n",
       "      <th>post_date</th>\n",
       "      <th>post_title</th>\n",
       "      <th>CA_produit</th>\n",
       "    </tr>\n",
       "  </thead>\n",
       "  <tbody>\n",
       "    <tr>\n",
       "      <th>0</th>\n",
       "      <td>3847</td>\n",
       "      <td>24.2</td>\n",
       "      <td>15298</td>\n",
       "      <td>6.0</td>\n",
       "      <td>2018-02-08 12:58:52</td>\n",
       "      <td>Pierre Jean Villa Saint-Joseph Préface 2018</td>\n",
       "      <td>145.2</td>\n",
       "    </tr>\n",
       "    <tr>\n",
       "      <th>1</th>\n",
       "      <td>3849</td>\n",
       "      <td>34.3</td>\n",
       "      <td>15296</td>\n",
       "      <td>0.0</td>\n",
       "      <td>2018-02-08 13:49:41</td>\n",
       "      <td>Pierre Jean Villa Saint-Joseph Rouge Tildé 2017</td>\n",
       "      <td>0.0</td>\n",
       "    </tr>\n",
       "    <tr>\n",
       "      <th>2</th>\n",
       "      <td>3850</td>\n",
       "      <td>20.8</td>\n",
       "      <td>15300</td>\n",
       "      <td>0.0</td>\n",
       "      <td>2018-02-08 14:08:36</td>\n",
       "      <td>Pierre Jean Villa Crozes-Hermitage Accroche Co...</td>\n",
       "      <td>0.0</td>\n",
       "    </tr>\n",
       "    <tr>\n",
       "      <th>3</th>\n",
       "      <td>4032</td>\n",
       "      <td>14.1</td>\n",
       "      <td>19814</td>\n",
       "      <td>3.0</td>\n",
       "      <td>2018-02-09 14:01:05</td>\n",
       "      <td>Pierre Jean Villa IGP Collines Rhodaniennes Ga...</td>\n",
       "      <td>42.3</td>\n",
       "    </tr>\n",
       "    <tr>\n",
       "      <th>4</th>\n",
       "      <td>4039</td>\n",
       "      <td>46.0</td>\n",
       "      <td>19815</td>\n",
       "      <td>0.0</td>\n",
       "      <td>2018-02-12 09:04:37</td>\n",
       "      <td>Pierre Jean Villa Côte Rôtie Carmina 2017</td>\n",
       "      <td>0.0</td>\n",
       "    </tr>\n",
       "  </tbody>\n",
       "</table>\n",
       "</div>"
      ],
      "text/plain": [
       "   product_id  price id_web  total_sales           post_date  \\\n",
       "0        3847   24.2  15298          6.0 2018-02-08 12:58:52   \n",
       "1        3849   34.3  15296          0.0 2018-02-08 13:49:41   \n",
       "2        3850   20.8  15300          0.0 2018-02-08 14:08:36   \n",
       "3        4032   14.1  19814          3.0 2018-02-09 14:01:05   \n",
       "4        4039   46.0  19815          0.0 2018-02-12 09:04:37   \n",
       "\n",
       "                                          post_title  CA_produit  \n",
       "0        Pierre Jean Villa Saint-Joseph Préface 2018       145.2  \n",
       "1    Pierre Jean Villa Saint-Joseph Rouge Tildé 2017         0.0  \n",
       "2  Pierre Jean Villa Crozes-Hermitage Accroche Co...         0.0  \n",
       "3  Pierre Jean Villa IGP Collines Rhodaniennes Ga...        42.3  \n",
       "4          Pierre Jean Villa Côte Rôtie Carmina 2017         0.0  "
      ]
     },
     "execution_count": 162,
     "metadata": {},
     "output_type": "execute_result"
    }
   ],
   "source": [
    "df['CA_produit'] = df.total_sales*df.price\n",
    "df.head()"
   ]
  },
  {
   "cell_type": "markdown",
   "metadata": {},
   "source": [
    "### CA total"
   ]
  },
  {
   "cell_type": "code",
   "execution_count": 163,
   "metadata": {},
   "outputs": [
    {
     "name": "stdout",
     "output_type": "stream",
     "text": [
      "70568.6\n"
     ]
    }
   ],
   "source": [
    "CA_total = sum(df['CA_produit'])\n",
    "print(CA_total)"
   ]
  },
  {
   "cell_type": "markdown",
   "metadata": {},
   "source": [
    "# Analyse de la variable prix"
   ]
  },
  {
   "cell_type": "code",
   "execution_count": 164,
   "metadata": {
    "scrolled": true
   },
   "outputs": [
    {
     "data": {
      "text/plain": [
       "count    714.000000\n",
       "mean      32.493137\n",
       "std       27.810525\n",
       "min        5.200000\n",
       "25%       14.100000\n",
       "50%       23.550000\n",
       "75%       42.175000\n",
       "max      225.000000\n",
       "Name: price, dtype: float64"
      ]
     },
     "execution_count": 164,
     "metadata": {},
     "output_type": "execute_result"
    }
   ],
   "source": [
    "df['price'].describe()"
   ]
  },
  {
   "cell_type": "code",
   "execution_count": 247,
   "metadata": {},
   "outputs": [
    {
     "data": {
      "text/plain": [
       "Text(0.5, 1.0, 'Variabilité des prix des bouteilles de vin')"
      ]
     },
     "execution_count": 247,
     "metadata": {},
     "output_type": "execute_result"
    },
    {
     "data": {
      "image/png": "[encoded data removed]",
      "text/plain": [
       "<Figure size 432x288 with 1 Axes>"
      ]
     },
     "metadata": {
      "needs_background": "light"
     },
     "output_type": "display_data"
    }
   ],
   "source": [
    "df.boxplot(column='price')\n",
    "plt.title('Variabilité des prix des bouteilles de vin')"
   ]
  },
  {
   "cell_type": "code",
   "execution_count": 249,
   "metadata": {
    "scrolled": false
   },
   "outputs": [
    {
     "data": {
      "text/plain": [
       "Text(0, 0.5, 'Nombre de bouteilles')"
      ]
     },
     "execution_count": 249,
     "metadata": {},
     "output_type": "execute_result"
    },
    {
     "data": {
      "image/png": "[encoded data removed]",
      "text/plain": [
       "<Figure size 432x288 with 1 Axes>"
      ]
     },
     "metadata": {
      "needs_background": "light"
     },
     "output_type": "display_data"
    }
   ],
   "source": [
    "df.hist(column='price')\n",
    "plt.title('Nombre de bouteilles par tranches de prix')\n",
    "plt.xlabel('Tranches de prix')\n",
    "plt.ylabel('Nombre de bouteilles')"
   ]
  },
  {
   "cell_type": "markdown",
   "metadata": {},
   "source": [
    "## Etude des outliers"
   ]
  },
  {
   "cell_type": "code",
   "execution_count": 235,
   "metadata": {},
   "outputs": [
    {
     "name": "stdout",
     "output_type": "stream",
     "text": [
      "84.28750000000001\n"
     ]
    }
   ],
   "source": [
    "q1 = df['price'].quantile(0.25)\n",
    "q3 = df['price'].quantile(0.75)\n",
    "iqr = q3-q1\n",
    "limite_boxplot = q3+1.5*iqr\n",
    "print(limite_boxplot)"
   ]
  },
  {
   "cell_type": "code",
   "execution_count": 236,
   "metadata": {},
   "outputs": [
    {
     "data": {
      "text/html": [
       "<div>\n",
       "<style scoped>\n",
       "    .dataframe tbody tr th:only-of-type {\n",
       "        vertical-align: middle;\n",
       "    }\n",
       "\n",
       "    .dataframe tbody tr th {\n",
       "        vertical-align: top;\n",
       "    }\n",
       "\n",
       "    .dataframe thead th {\n",
       "        text-align: right;\n",
       "    }\n",
       "</style>\n",
       "<table border=\"1\" class=\"dataframe\">\n",
       "  <thead>\n",
       "    <tr style=\"text-align: right;\">\n",
       "      <th></th>\n",
       "      <th>product_id</th>\n",
       "      <th>price</th>\n",
       "      <th>id_web</th>\n",
       "      <th>total_sales</th>\n",
       "      <th>post_date</th>\n",
       "      <th>post_title</th>\n",
       "      <th>CA_produit</th>\n",
       "    </tr>\n",
       "  </thead>\n",
       "  <tbody>\n",
       "    <tr>\n",
       "      <th>648</th>\n",
       "      <td>6202</td>\n",
       "      <td>116.4</td>\n",
       "      <td>15126</td>\n",
       "      <td>0.0</td>\n",
       "      <td>2019-07-23 10:50:24</td>\n",
       "      <td>Domaine Clerget Echezeaux Grand Cru En Orveaux...</td>\n",
       "      <td>0.0</td>\n",
       "    </tr>\n",
       "    <tr>\n",
       "      <th>65</th>\n",
       "      <td>4132</td>\n",
       "      <td>88.4</td>\n",
       "      <td>11668</td>\n",
       "      <td>0.0</td>\n",
       "      <td>2018-02-13 11:43:55</td>\n",
       "      <td>Zind-Humbrecht Pinot Gris Grand Cru Rangen De ...</td>\n",
       "      <td>0.0</td>\n",
       "    </tr>\n",
       "    <tr>\n",
       "      <th>380</th>\n",
       "      <td>4903</td>\n",
       "      <td>102.3</td>\n",
       "      <td>14805</td>\n",
       "      <td>0.0</td>\n",
       "      <td>2018-05-15 10:10:57</td>\n",
       "      <td>Domaine Des Croix Corton Grand Cru Les Grèves ...</td>\n",
       "      <td>0.0</td>\n",
       "    </tr>\n",
       "    <tr>\n",
       "      <th>432</th>\n",
       "      <td>5008</td>\n",
       "      <td>105.0</td>\n",
       "      <td>11602</td>\n",
       "      <td>0.0</td>\n",
       "      <td>2018-07-17 10:52:41</td>\n",
       "      <td>Domaine des Comtes Lafon Volnay 1er Cru Santen...</td>\n",
       "      <td>0.0</td>\n",
       "    </tr>\n",
       "    <tr>\n",
       "      <th>647</th>\n",
       "      <td>6201</td>\n",
       "      <td>105.6</td>\n",
       "      <td>14596</td>\n",
       "      <td>0.0</td>\n",
       "      <td>2019-07-23 10:37:14</td>\n",
       "      <td>David Duband Chambolle-Musigny 1er Cru Les Sen...</td>\n",
       "      <td>0.0</td>\n",
       "    </tr>\n",
       "  </tbody>\n",
       "</table>\n",
       "</div>"
      ],
      "text/plain": [
       "     product_id  price id_web  total_sales           post_date  \\\n",
       "648        6202  116.4  15126          0.0 2019-07-23 10:50:24   \n",
       "65         4132   88.4  11668          0.0 2018-02-13 11:43:55   \n",
       "380        4903  102.3  14805          0.0 2018-05-15 10:10:57   \n",
       "432        5008  105.0  11602          0.0 2018-07-17 10:52:41   \n",
       "647        6201  105.6  14596          0.0 2019-07-23 10:37:14   \n",
       "\n",
       "                                            post_title  CA_produit  \n",
       "648  Domaine Clerget Echezeaux Grand Cru En Orveaux...         0.0  \n",
       "65   Zind-Humbrecht Pinot Gris Grand Cru Rangen De ...         0.0  \n",
       "380  Domaine Des Croix Corton Grand Cru Les Grèves ...         0.0  \n",
       "432  Domaine des Comtes Lafon Volnay 1er Cru Santen...         0.0  \n",
       "647  David Duband Chambolle-Musigny 1er Cru Les Sen...         0.0  "
      ]
     },
     "execution_count": 236,
     "metadata": {},
     "output_type": "execute_result"
    }
   ],
   "source": [
    "df_outliers = df.loc[df['price'] > limite_boxplot]\n",
    "df_outliers.head()"
   ]
  },
  {
   "cell_type": "code",
   "execution_count": 170,
   "metadata": {},
   "outputs": [
    {
     "name": "stdout",
     "output_type": "stream",
     "text": [
      "<class 'pandas.core.frame.DataFrame'>\n",
      "Int64Index: 32 entries, 63 to 657\n",
      "Data columns (total 7 columns):\n",
      " #   Column       Non-Null Count  Dtype         \n",
      "---  ------       --------------  -----         \n",
      " 0   product_id   32 non-null     int64         \n",
      " 1   price        32 non-null     float64       \n",
      " 2   id_web       32 non-null     object        \n",
      " 3   total_sales  32 non-null     float64       \n",
      " 4   post_date    32 non-null     datetime64[ns]\n",
      " 5   post_title   32 non-null     object        \n",
      " 6   CA_produit   32 non-null     float64       \n",
      "dtypes: datetime64[ns](1), float64(3), int64(1), object(2)\n",
      "memory usage: 2.0+ KB\n"
     ]
    }
   ],
   "source": [
    "df_outliers.info()"
   ]
  },
  {
   "cell_type": "code",
   "execution_count": 251,
   "metadata": {},
   "outputs": [
    {
     "data": {
      "text/plain": [
       "Text(0, 0.5, 'Nombre de bouteilles')"
      ]
     },
     "execution_count": 251,
     "metadata": {},
     "output_type": "execute_result"
    },
    {
     "data": {
      "image/png": "[encoded data removed]",
      "text/plain": [
       "<Figure size 432x288 with 1 Axes>"
      ]
     },
     "metadata": {
      "needs_background": "light"
     },
     "output_type": "display_data"
    }
   ],
   "source": [
    "df_outliers.hist(column='price')\n",
    "plt.title('Nombre de bouteilles par tranches de prix supérieur à la limite')\n",
    "plt.xlabel('Tranches de prix')\n",
    "plt.ylabel('Nombre de bouteilles')"
   ]
  },
  {
   "cell_type": "markdown",
   "metadata": {},
   "source": [
    "# TOP 10 des vins les plus chers"
   ]
  },
  {
   "cell_type": "code",
   "execution_count": 254,
   "metadata": {},
   "outputs": [
    {
     "data": {
      "text/html": [
       "<div>\n",
       "<style scoped>\n",
       "    .dataframe tbody tr th:only-of-type {\n",
       "        vertical-align: middle;\n",
       "    }\n",
       "\n",
       "    .dataframe tbody tr th {\n",
       "        vertical-align: top;\n",
       "    }\n",
       "\n",
       "    .dataframe thead th {\n",
       "        text-align: right;\n",
       "    }\n",
       "</style>\n",
       "<table border=\"1\" class=\"dataframe\">\n",
       "  <thead>\n",
       "    <tr style=\"text-align: right;\">\n",
       "      <th></th>\n",
       "      <th>post_title</th>\n",
       "      <th>price</th>\n",
       "    </tr>\n",
       "  </thead>\n",
       "  <tbody>\n",
       "    <tr>\n",
       "      <th>199</th>\n",
       "      <td>Champagne Egly-Ouriet Grand Cru Millésimé 2008</td>\n",
       "      <td>225.0</td>\n",
       "    </tr>\n",
       "    <tr>\n",
       "      <th>426</th>\n",
       "      <td>David Duband Charmes-Chambertin Grand Cru 2014</td>\n",
       "      <td>217.5</td>\n",
       "    </tr>\n",
       "    <tr>\n",
       "      <th>587</th>\n",
       "      <td>Coteaux Champenois Egly-Ouriet Ambonnay Rouge ...</td>\n",
       "      <td>191.3</td>\n",
       "    </tr>\n",
       "    <tr>\n",
       "      <th>218</th>\n",
       "      <td>Cognac Frapin VIP XO</td>\n",
       "      <td>176.0</td>\n",
       "    </tr>\n",
       "    <tr>\n",
       "      <th>553</th>\n",
       "      <td>Camille Giroud Clos de Vougeot 2016</td>\n",
       "      <td>175.0</td>\n",
       "    </tr>\n",
       "    <tr>\n",
       "      <th>221</th>\n",
       "      <td>Cognac Frapin Château de Fontpinot 1989 20 Ans...</td>\n",
       "      <td>157.0</td>\n",
       "    </tr>\n",
       "    <tr>\n",
       "      <th>381</th>\n",
       "      <td>Domaine Des Croix Corton Charlemagne Grand Cru...</td>\n",
       "      <td>137.0</td>\n",
       "    </tr>\n",
       "    <tr>\n",
       "      <th>642</th>\n",
       "      <td>Champagne Gosset Célébris Vintage 2007</td>\n",
       "      <td>135.0</td>\n",
       "    </tr>\n",
       "    <tr>\n",
       "      <th>201</th>\n",
       "      <td>Champagne Egly-Ouriet Grand Cru Blanc de Noirs</td>\n",
       "      <td>126.5</td>\n",
       "    </tr>\n",
       "    <tr>\n",
       "      <th>511</th>\n",
       "      <td>Domaine Weinbach Gewurztraminer Grand Cru Furs...</td>\n",
       "      <td>124.8</td>\n",
       "    </tr>\n",
       "  </tbody>\n",
       "</table>\n",
       "</div>"
      ],
      "text/plain": [
       "                                            post_title  price\n",
       "199     Champagne Egly-Ouriet Grand Cru Millésimé 2008  225.0\n",
       "426     David Duband Charmes-Chambertin Grand Cru 2014  217.5\n",
       "587  Coteaux Champenois Egly-Ouriet Ambonnay Rouge ...  191.3\n",
       "218                               Cognac Frapin VIP XO  176.0\n",
       "553                Camille Giroud Clos de Vougeot 2016  175.0\n",
       "221  Cognac Frapin Château de Fontpinot 1989 20 Ans...  157.0\n",
       "381  Domaine Des Croix Corton Charlemagne Grand Cru...  137.0\n",
       "642             Champagne Gosset Célébris Vintage 2007  135.0\n",
       "201     Champagne Egly-Ouriet Grand Cru Blanc de Noirs  126.5\n",
       "511  Domaine Weinbach Gewurztraminer Grand Cru Furs...  124.8"
      ]
     },
     "execution_count": 254,
     "metadata": {},
     "output_type": "execute_result"
    }
   ],
   "source": [
    "df = df.sort_values('price',ascending=False)\n",
    "df[['post_title','price']].head(10)"
   ]
  },
  {
   "cell_type": "markdown",
   "metadata": {},
   "source": [
    "# TOP 10 des vins les moins chers"
   ]
  },
  {
   "cell_type": "code",
   "execution_count": 255,
   "metadata": {},
   "outputs": [
    {
     "data": {
      "text/html": [
       "<div>\n",
       "<style scoped>\n",
       "    .dataframe tbody tr th:only-of-type {\n",
       "        vertical-align: middle;\n",
       "    }\n",
       "\n",
       "    .dataframe tbody tr th {\n",
       "        vertical-align: top;\n",
       "    }\n",
       "\n",
       "    .dataframe thead th {\n",
       "        text-align: right;\n",
       "    }\n",
       "</style>\n",
       "<table border=\"1\" class=\"dataframe\">\n",
       "  <thead>\n",
       "    <tr style=\"text-align: right;\">\n",
       "      <th></th>\n",
       "      <th>post_title</th>\n",
       "      <th>price</th>\n",
       "    </tr>\n",
       "  </thead>\n",
       "  <tbody>\n",
       "    <tr>\n",
       "      <th>645</th>\n",
       "      <td>Moulin de Gassac IGP Pays d'Hérault Guilhem Bl...</td>\n",
       "      <td>5.2</td>\n",
       "    </tr>\n",
       "    <tr>\n",
       "      <th>560</th>\n",
       "      <td>Maurel Pays d'Oc Cabernet-Sauvignon 2017</td>\n",
       "      <td>5.7</td>\n",
       "    </tr>\n",
       "    <tr>\n",
       "      <th>97</th>\n",
       "      <td>Maurel Pays d'Oc Chardonnay 2019</td>\n",
       "      <td>5.7</td>\n",
       "    </tr>\n",
       "    <tr>\n",
       "      <th>98</th>\n",
       "      <td>Maurel Pays d'Oc Chenin-Colombard 2019</td>\n",
       "      <td>5.7</td>\n",
       "    </tr>\n",
       "    <tr>\n",
       "      <th>99</th>\n",
       "      <td>Maurel Cabardès Tradition 2017</td>\n",
       "      <td>5.7</td>\n",
       "    </tr>\n",
       "    <tr>\n",
       "      <th>119</th>\n",
       "      <td>Moulin de Gassac IGP Pays d'Hérault Guilhem Ro...</td>\n",
       "      <td>5.8</td>\n",
       "    </tr>\n",
       "    <tr>\n",
       "      <th>562</th>\n",
       "      <td>Maurel Pays d'Oc Syrah 2019</td>\n",
       "      <td>5.8</td>\n",
       "    </tr>\n",
       "    <tr>\n",
       "      <th>561</th>\n",
       "      <td>Maurel Pays d'Oc Merlot 2018</td>\n",
       "      <td>5.8</td>\n",
       "    </tr>\n",
       "    <tr>\n",
       "      <th>118</th>\n",
       "      <td>Moulin de Gassac IGP Pays d'Hérault Guilhem Ro...</td>\n",
       "      <td>5.8</td>\n",
       "    </tr>\n",
       "    <tr>\n",
       "      <th>292</th>\n",
       "      <td>Domaine de Joy Côtes de Gascogne Envie de Joy ...</td>\n",
       "      <td>6.3</td>\n",
       "    </tr>\n",
       "  </tbody>\n",
       "</table>\n",
       "</div>"
      ],
      "text/plain": [
       "                                            post_title  price\n",
       "645  Moulin de Gassac IGP Pays d'Hérault Guilhem Bl...    5.2\n",
       "560           Maurel Pays d'Oc Cabernet-Sauvignon 2017    5.7\n",
       "97                    Maurel Pays d'Oc Chardonnay 2019    5.7\n",
       "98              Maurel Pays d'Oc Chenin-Colombard 2019    5.7\n",
       "99                      Maurel Cabardès Tradition 2017    5.7\n",
       "119  Moulin de Gassac IGP Pays d'Hérault Guilhem Ro...    5.8\n",
       "562                        Maurel Pays d'Oc Syrah 2019    5.8\n",
       "561                       Maurel Pays d'Oc Merlot 2018    5.8\n",
       "118  Moulin de Gassac IGP Pays d'Hérault Guilhem Ro...    5.8\n",
       "292  Domaine de Joy Côtes de Gascogne Envie de Joy ...    6.3"
      ]
     },
     "execution_count": 255,
     "metadata": {},
     "output_type": "execute_result"
    }
   ],
   "source": [
    "df = df.sort_values('price',ascending=True)\n",
    "df[['post_title','price']].head(10)"
   ]
  },
  {
   "cell_type": "markdown",
   "metadata": {},
   "source": [
    "# TOP 10 des ventes"
   ]
  },
  {
   "cell_type": "code",
   "execution_count": 257,
   "metadata": {},
   "outputs": [
    {
     "data": {
      "text/html": [
       "<div>\n",
       "<style scoped>\n",
       "    .dataframe tbody tr th:only-of-type {\n",
       "        vertical-align: middle;\n",
       "    }\n",
       "\n",
       "    .dataframe tbody tr th {\n",
       "        vertical-align: top;\n",
       "    }\n",
       "\n",
       "    .dataframe thead th {\n",
       "        text-align: right;\n",
       "    }\n",
       "</style>\n",
       "<table border=\"1\" class=\"dataframe\">\n",
       "  <thead>\n",
       "    <tr style=\"text-align: right;\">\n",
       "      <th></th>\n",
       "      <th>post_title</th>\n",
       "      <th>CA_produit</th>\n",
       "      <th>total_sales</th>\n",
       "      <th>price</th>\n",
       "    </tr>\n",
       "  </thead>\n",
       "  <tbody>\n",
       "    <tr>\n",
       "      <th>194</th>\n",
       "      <td>Champagne Gosset Grand Blanc de Blancs</td>\n",
       "      <td>4704.0</td>\n",
       "      <td>96.0</td>\n",
       "      <td>49.0</td>\n",
       "    </tr>\n",
       "    <tr>\n",
       "      <th>71</th>\n",
       "      <td>Champagne Gosset Grand Rosé</td>\n",
       "      <td>4263.0</td>\n",
       "      <td>87.0</td>\n",
       "      <td>49.0</td>\n",
       "    </tr>\n",
       "    <tr>\n",
       "      <th>218</th>\n",
       "      <td>Cognac Frapin VIP XO</td>\n",
       "      <td>2288.0</td>\n",
       "      <td>13.0</td>\n",
       "      <td>176.0</td>\n",
       "    </tr>\n",
       "    <tr>\n",
       "      <th>70</th>\n",
       "      <td>Champagne Gosset Grand Millésime 2006</td>\n",
       "      <td>1590.0</td>\n",
       "      <td>30.0</td>\n",
       "      <td>53.0</td>\n",
       "    </tr>\n",
       "    <tr>\n",
       "      <th>69</th>\n",
       "      <td>Champagne Gosset Grande Réserve</td>\n",
       "      <td>1560.0</td>\n",
       "      <td>40.0</td>\n",
       "      <td>39.0</td>\n",
       "    </tr>\n",
       "    <tr>\n",
       "      <th>201</th>\n",
       "      <td>Champagne Egly-Ouriet Grand Cru Blanc de Noirs</td>\n",
       "      <td>1391.5</td>\n",
       "      <td>11.0</td>\n",
       "      <td>126.5</td>\n",
       "    </tr>\n",
       "    <tr>\n",
       "      <th>199</th>\n",
       "      <td>Champagne Egly-Ouriet Grand Cru Millésimé 2008</td>\n",
       "      <td>1125.0</td>\n",
       "      <td>5.0</td>\n",
       "      <td>225.0</td>\n",
       "    </tr>\n",
       "    <tr>\n",
       "      <th>79</th>\n",
       "      <td>Elian Daros Côtes du Marmandais Clos Baquey 2015</td>\n",
       "      <td>1044.0</td>\n",
       "      <td>36.0</td>\n",
       "      <td>29.0</td>\n",
       "    </tr>\n",
       "    <tr>\n",
       "      <th>651</th>\n",
       "      <td>Domaine Giudicelli Patrimonio Blanc 2019</td>\n",
       "      <td>1033.2</td>\n",
       "      <td>41.0</td>\n",
       "      <td>25.2</td>\n",
       "    </tr>\n",
       "    <tr>\n",
       "      <th>30</th>\n",
       "      <td>Gilles Robin Crozes-Hermitage Rouge Papillon 2019</td>\n",
       "      <td>1029.2</td>\n",
       "      <td>62.0</td>\n",
       "      <td>16.6</td>\n",
       "    </tr>\n",
       "  </tbody>\n",
       "</table>\n",
       "</div>"
      ],
      "text/plain": [
       "                                            post_title  CA_produit  \\\n",
       "194             Champagne Gosset Grand Blanc de Blancs      4704.0   \n",
       "71                         Champagne Gosset Grand Rosé      4263.0   \n",
       "218                               Cognac Frapin VIP XO      2288.0   \n",
       "70               Champagne Gosset Grand Millésime 2006      1590.0   \n",
       "69                     Champagne Gosset Grande Réserve      1560.0   \n",
       "201     Champagne Egly-Ouriet Grand Cru Blanc de Noirs      1391.5   \n",
       "199     Champagne Egly-Ouriet Grand Cru Millésimé 2008      1125.0   \n",
       "79    Elian Daros Côtes du Marmandais Clos Baquey 2015      1044.0   \n",
       "651           Domaine Giudicelli Patrimonio Blanc 2019      1033.2   \n",
       "30   Gilles Robin Crozes-Hermitage Rouge Papillon 2019      1029.2   \n",
       "\n",
       "     total_sales  price  \n",
       "194         96.0   49.0  \n",
       "71          87.0   49.0  \n",
       "218         13.0  176.0  \n",
       "70          30.0   53.0  \n",
       "69          40.0   39.0  \n",
       "201         11.0  126.5  \n",
       "199          5.0  225.0  \n",
       "79          36.0   29.0  \n",
       "651         41.0   25.2  \n",
       "30          62.0   16.6  "
      ]
     },
     "execution_count": 257,
     "metadata": {},
     "output_type": "execute_result"
    }
   ],
   "source": [
    "df = df.sort_values('CA_produit',ascending=False)\n",
    "df[['post_title','CA_produit','total_sales','price']].head(10)"
   ]
  },
  {
   "cell_type": "markdown",
   "metadata": {},
   "source": [
    "# Nombre de vins non vendus"
   ]
  },
  {
   "cell_type": "code",
   "execution_count": 197,
   "metadata": {},
   "outputs": [
    {
     "name": "stdout",
     "output_type": "stream",
     "text": [
      "<class 'pandas.core.frame.DataFrame'>\n",
      "Int64Index: 329 entries, 645 to 693\n",
      "Data columns (total 7 columns):\n",
      " #   Column       Non-Null Count  Dtype         \n",
      "---  ------       --------------  -----         \n",
      " 0   product_id   329 non-null    int64         \n",
      " 1   price        329 non-null    float64       \n",
      " 2   id_web       329 non-null    object        \n",
      " 3   total_sales  329 non-null    float64       \n",
      " 4   post_date    329 non-null    datetime64[ns]\n",
      " 5   post_title   329 non-null    object        \n",
      " 6   CA_produit   329 non-null    float64       \n",
      "dtypes: datetime64[ns](1), float64(3), int64(1), object(2)\n",
      "memory usage: 20.6+ KB\n"
     ]
    }
   ],
   "source": [
    "df.loc[df['CA_produit'] == 0].info()"
   ]
  },
  {
   "cell_type": "markdown",
   "metadata": {},
   "source": [
    "# Analyse bivariée : Prix vs CA par produit"
   ]
  },
  {
   "cell_type": "code",
   "execution_count": 225,
   "metadata": {
    "scrolled": false
   },
   "outputs": [
    {
     "data": {
      "text/plain": [
       "Text(0, 0.5, 'Nombre de ventes')"
      ]
     },
     "execution_count": 225,
     "metadata": {},
     "output_type": "execute_result"
    },
    {
     "data": {
      "image/png": "[encoded data removed]",
      "text/plain": [
       "<Figure size 432x288 with 1 Axes>"
      ]
     },
     "metadata": {
      "needs_background": "light"
     },
     "output_type": "display_data"
    }
   ],
   "source": [
    "x = df['price']\n",
    "y = df['total_sales']\n",
    "plt.scatter(x,y)\n",
    "plt.title('Diagramme de dispersion prix, nombre de vente')\n",
    "plt.xlabel('Prix')\n",
    "plt.ylabel('Nombre de ventes')"
   ]
  },
  {
   "cell_type": "code",
   "execution_count": null,
   "metadata": {},
   "outputs": [],
   "source": []
  }
 ],
 "metadata": {
  "kernelspec": {
   "display_name": "Python 3",
   "language": "python",
   "name": "python3"
  },
  "language_info": {
   "codemirror_mode": {
    "name": "ipython",
    "version": 3
   },
   "file_extension": ".py",
   "mimetype": "text/x-python",
   "name": "python",
   "nbconvert_exporter": "python",
   "pygments_lexer": "ipython3",
   "version": "3.8.5"
  }
 },
 "nbformat": 4,
 "nbformat_minor": 4
}
